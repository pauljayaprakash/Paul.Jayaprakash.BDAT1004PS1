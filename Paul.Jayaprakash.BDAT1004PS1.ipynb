{
 "cells": [
  {
   "cell_type": "markdown",
   "id": "0f4ef8e9-f007-4a28-97c1-b9e84f5793c9",
   "metadata": {},
   "source": [
    "BDAT 1004 – Data Programming\n",
    "\n",
    "\n",
    "Problem Set 1\n",
    "\n",
    "Question 1 C#\r\n",
    "What data type is each of the following\n",
    "\n",
    "•\t5\r\n",
    "•\t5.0\r\n",
    "•\t5 > 1\r\n",
    "•\t'5'\r\n",
    "•\t5 * 2\r\n",
    "•\t'5' * 2\r\n",
    "•\t'5' + '2'\r\n",
    "•\t5 / 2\r\n",
    "•\t5 % 2\r\n",
    "•\t{5, 2, 1}\r\n",
    "•\t5 (the number)== 3\r\n",
    "•\tPi \n",
    "•\t5 – int\n",
    "•\t5.0 – double\n",
    "•\t5 > 1 – bool\n",
    "•\t'5' – Char\n",
    "•\t5 * 2 – int\n",
    "•\t'5' * 2 – int\n",
    "•\t'5' + '2' – int\n",
    "•\t5 / 2 – int\n",
    "•\t5 % 2 – int\n",
    "•\t{5, 2, 1} – int\n",
    "•\t5 == 3 – boolean\n",
    "•\tPi (the number) – double \n",
    "mber)\tfloat\r\n",
    "he number)\r\n",
    "?"
   ]
  },
  {
   "cell_type": "markdown",
   "id": "8a397d51-d5ea-4022-b422-88ddcafd9857",
   "metadata": {},
   "source": [
    "Question 2 C#\n",
    "\n",
    "Write (and evaluate) C# expressions that answer these questions:\r\n",
    "a. How many letters are there in 'Supercalifragilisticexpialidocious'?\r\n",
    "b. Does 'Supercalifragilisticexpialidocious' contain 'ice' as a substrin\n",
    "c. Which of the following words is the longest: Supercalifragilisticexpialidocious, Honorificabilitudinitatibus, or Bababadalgharaghtakamminarronnkonn?\r\n",
    "d. Which composer comes first in the dictionary: 'Berlioz', 'Borodin', 'Brian', 'Bartok', 'Bellini', 'Buxtehude', 'Bernstein'. Which one comes last?g?"
   ]
  },
  {
   "cell_type": "code",
   "execution_count": 3,
   "id": "9ea0dba3-d73d-4f7a-a12d-d3309d17e66b",
   "metadata": {},
   "outputs": [
    {
     "name": "stdout",
     "output_type": "stream",
     "text": [
      "34\n",
      "True\n",
      "The longest word(s): Supercalifragilisticexpialidocious, Bababadalgharaghtakamminarronnkonn\n",
      "First: Bartok\n",
      "Last: Buxtehude\n"
     ]
    }
   ],
   "source": [
    "//a. How many letters are there in 'Supercalifragilisticexpialidocious'?//\n",
    "\n",
    "string a = \"Supercalifragilisticexpialidocious\";\n",
    "int length = a.Length;\n",
    "Console.WriteLine(length);\n",
    "\n",
    "//b.Does 'Supercalifragilisticexpialidocious' contain 'ice' as a substring?//\n",
    "\n",
    "string word1 = \"Supercalifragilisticexpialidocious\";\n",
    "bool containsIce = word1.Contains(\"ice\");\n",
    "Console.WriteLine(containsIce);\n",
    "\n",
    "//c. Which of the following words is the longest: Supercalifragilisticexpialidocious, Honorificabilitudinitatibus, or Bababadalgharaghtakamminarronnkonn?//\n",
    "\n",
    "      \n",
    "        string b = \"Supercalifragilisticexpialidocious\";\n",
    "        string c = \"Honorificabilitudinitatibus\";\n",
    "        string d = \"Bababadalgharaghtakamminarronnkonn\";\n",
    "\n",
    "        string[] words = { b, c, d };\n",
    "      \n",
    "        int maxLength = words.Max(w => w.Length);\n",
    "\n",
    "        var longestWords = words.Where(w => w.Length == maxLength);\n",
    "\n",
    "        Console.WriteLine(\"The longest word(s): \" + string.Join(\", \", longestWords));\n",
    "\n",
    "\n",
    "//d. Which composer comes first in the dictionary: 'Berlioz', 'Borodin', 'Brian', 'Bartok', 'Bellini', 'Buxtehude', 'Bernstein'. Which one comes last?g?//\n",
    "\n",
    "string[] composers = { \"Berlioz\", \"Borodin\", \"Brian\", \"Bartok\", \"Bellini\", \"Buxtehude\", \"Bernstein\" };\n",
    "Array.Sort(composers);\n",
    "Console.WriteLine(\"First: \" + composers[0]);\n",
    "Console.WriteLine(\"Last: \" + composers[composers.Length - 1]);"
   ]
  },
  {
   "cell_type": "markdown",
   "id": "60d9c9d6-9756-4e88-ba9a-268f8ccf66bc",
   "metadata": {},
   "source": [
    "Question 3 C#\n",
    "Implement function triangleArea(a,b,c) that takes as input the lengths of the 3 sides of a triangle and returns the area of the triangle. By Heron's formula, the area of a triangle with side lengths a, b, and c is s(s − a)(s − b)(s − c), where\n",
    "s = (a + b + c)/2.\n",
    "triangleArea(2,2,2) 1.7320508075688772"
   ]
  },
  {
   "cell_type": "code",
   "execution_count": 5,
   "id": "3161106f-8b18-422f-ad1b-81b0b1eee87e",
   "metadata": {},
   "outputs": [
    {
     "name": "stdout",
     "output_type": "stream",
     "text": [
      "Area of the triangle: 1.7320508075688772\n"
     ]
    }
   ],
   "source": [
    "{\n",
    "        double area = triangleArea(2, 2, 2);\n",
    "        Console.WriteLine(\"Area of the triangle: \" + area);\n",
    "    }\n",
    "\n",
    "    static double triangleArea(double a, double b, double c)\n",
    "    {\n",
    "        //semi-perimeter\n",
    "        double s = (a + b + c) / 2;\n",
    "\n",
    "        //area\n",
    "        double area = Math.Sqrt(s * (s - a) * (s - b) * (s - c));\n",
    "\n",
    "        return area;\n",
    "    }"
   ]
  },
  {
   "cell_type": "markdown",
   "id": "685df95a-d78d-4c46-90b6-6ea1f7812efc",
   "metadata": {},
   "source": [
    "Question 4 C#\r\n",
    "Write a program in C# Sharp to separate odd and even integers in separate arrays. Go to the editor\r\n",
    "Test Data :\r\n",
    "Input the number of elements to be stored in the array :5 Input 5 elements in the array :\r\n",
    "element - 0 : 25\r\n",
    "element - 1 : 47\r\n",
    "element - 2 : 42\r\n",
    "element - 3 : 56\r\n",
    "element - 4 : 32 Expected Output:\r\n",
    "The Even elements are: 42 56 32\r\n",
    "The Odd elements are : 25 47"
   ]
  },
  {
   "cell_type": "code",
   "execution_count": 7,
   "id": "579f4178-bf0b-4123-a7a2-ee73bebe4e16",
   "metadata": {},
   "outputs": [
    {
     "name": "stdout",
     "output_type": "stream",
     "text": [
      "The Even elements are: 42 56 32 \n",
      "The Odd elements are: 25 47 \n"
     ]
    }
   ],
   "source": [
    "\n",
    "int[] inputArray = { 25, 47, 42, 56, 32 };\n",
    "int[] evenNumbers = new int[inputArray.Length];\n",
    "int[] oddNumbers = new int[inputArray.Length];\n",
    "int evenCount = 0, oddCount = 0;\n",
    "foreach (int num in inputArray)\n",
    "{\n",
    "    if (num % 2 == 0)\n",
    "    {\n",
    "        evenNumbers[evenCount++] = num;\n",
    "    }\n",
    "    else\n",
    "    {\n",
    "        oddNumbers[oddCount++] = num;\n",
    "    }\n",
    "}\n",
    " \n",
    "Console.Write(\"The Even elements are: \");\n",
    "for (int i = 0; i < evenCount; i++)\n",
    "{\n",
    "    Console.Write(evenNumbers[i] + \" \");\n",
    "}\n",
    "Console.WriteLine();\n",
    "Console.Write(\"The Odd elements are: \");\n",
    "for (int i = 0; i < oddCount; i++)\n",
    "{\n",
    "    Console.Write(oddNumbers[i] + \" \");\n",
    "}\n",
    "Console.WriteLine();"
   ]
  },
  {
   "cell_type": "markdown",
   "id": "85ae74d4-8349-4327-b33b-85c1cc7379c4",
   "metadata": {},
   "source": [
    "Question 5 C#\r\n",
    "a. Write a function inside(x,y,x1,y1,x2,y2) that returns True or False depending on whether the point (x,y) lies in the rectangle with lower left corner (x1,y1) and upper right corner (x2,y2).> inside(1,1,0,0,2,3)\r\n",
    "Tr>>> inside(-1,-1,0,0,2,3)\r\n",
    "\n",
    "\n",
    "b. Use function inside() from part a. to write an expression that tests whether the point (1,1) lies in both of the following rectangles: one with lower left corner (0.3, 0.5) and upper right corner (1.1, 0.7) and the other with lower left corner (0.5, 0.2) and upper right corner (1.1, 2)1, 2)."
   ]
  },
  {
   "cell_type": "code",
   "execution_count": 9,
   "id": "a4cc92c0-5204-448d-aef6-c225ad593c6f",
   "metadata": {},
   "outputs": [
    {
     "name": "stdout",
     "output_type": "stream",
     "text": [
      "True\n",
      "False\n",
      "Point (1, 1) in first rectangle: False\n",
      "Point (1, 1) in second rectangle: True\n"
     ]
    }
   ],
   "source": [
    "\n",
    " \n",
    "   {\n",
    "        Console.WriteLine(Inside(1, 1, 0, 0, 2, 3)); \n",
    "        Console.WriteLine(Inside(-1, -1, 0, 0, 2, 3));\n",
    "\n",
    "        bool inFirstRectangle = Inside(1, 1, 0.3, 0.5, 1.1, 0.7);\n",
    "        bool inSecondRectangle = Inside(1, 1, 0.5, 0.2, 1.1, 2);\n",
    "\n",
    "        Console.WriteLine($\"Point (1, 1) in first rectangle: {inFirstRectangle}\");\n",
    "        Console.WriteLine($\"Point (1, 1) in second rectangle: {inSecondRectangle}\");\n",
    "    }\n",
    "\n",
    "    static bool Inside(double x, double y, double x1, double y1, double x2, double y2)\n",
    "    {\n",
    "        return (x >= x1 && x <= x2 && y >= y1 && y <= y2);\n",
    "    }\n",
    "\n",
    "    \n",
    "    \n",
    "\n"
   ]
  },
  {
   "cell_type": "markdown",
   "id": "7783c9a6-79b2-466f-b532-58ad47d96f6d",
   "metadata": {},
   "source": [
    "Question 6 Python\n",
    "You can turn a word into pig-Latin using the following two rules (simplified):\n",
    "• If the word starts with a consonant, move that letter to the end and append 'ay'. For example, 'happy' becomes 'appyhay' and 'pencil' becomes 'encilpay'.\n",
    "• If the word starts with a vowel, simply append 'way' to the end of the word. For example, 'enter' becomes 'enterway' and 'other' becomes 'otherway' . For our purposes, there are 5 vowels: a, e, i, o, u (so we count y as a consonant).\n",
    "Write a function pig() that takes a word (i.e., a string) as input and returns its pig- Latin form. Your function should still work if the input word contains upper case characters. Your output should always be lower case however.\n",
    "pig('happy') 'appyhay'\n",
    "pig('Enter') 'enterway'"
   ]
  },
  {
   "cell_type": "code",
   "execution_count": 1,
   "id": "020987e9-1cf2-40c9-96d5-6c1e110fd74f",
   "metadata": {},
   "outputs": [
    {
     "name": "stdout",
     "output_type": "stream",
     "text": [
      "appyhay\n",
      "enterway\n"
     ]
    }
   ],
   "source": [
    "def pig(word):\n",
    "    word = word.lower()\n",
    "\n",
    "    if word[0] in 'aeiou':\n",
    "        return word + 'way' \n",
    "    else:\n",
    "        return word[1:] + word[0] + 'ay' \n",
    "\n",
    "print(pig('happy'))  \n",
    "print(pig('Enter'))  "
   ]
  },
  {
   "cell_type": "markdown",
   "id": "043505b1-2458-485f-be8a-263dd1db7725",
   "metadata": {},
   "source": [
    "Question 7 Python\n",
    "File bloodtype1.txt records blood-types of patients (A, B, AB, O or OO) at a clinic. Write a function bldcount() that reads the file with name name and reports (i.e., prints) how many patients there are in each bloodtype.\n",
    "bldcount('bloodtype.txt')\n",
    "There are 10 patients of blood type A.\n",
    "There is one patient of blood type B.\n",
    "There are 10 patients of blood type AB.\n",
    "There are 12 patients of blood type O.\n",
    "There are no patients of blood type OO."
   ]
  },
  {
   "cell_type": "code",
   "execution_count": 3,
   "id": "c8528f6b-43c2-4f38-9fc6-14c6938cf942",
   "metadata": {},
   "outputs": [
    {
     "name": "stdout",
     "output_type": "stream",
     "text": [
      "There are 10 patients of blood type A.\n",
      "There is one patient of blood type B.\n",
      "There are 10 patients of blood type AB.\n",
      "There are 12 patients of blood type O.\n",
      "There are no patients of blood type OO.\n"
     ]
    }
   ],
   "source": [
    "def bldcount(filename):\n",
    "    blood_types = ['A', 'B', 'AB', 'O', 'OO']\n",
    "    blood_count = {bt: 0 for bt in blood_types}\n",
    "    \n",
    "    with open(filename, 'r') as file:\n",
    "        blood_data = file.read().split() \n",
    "    for blood in blood_data:\n",
    "        if blood in blood_count:\n",
    "            blood_count[blood] += 1\n",
    "    for blood_type in blood_types:\n",
    "        count = blood_count[blood_type]\n",
    "        if count == 0:\n",
    "            print(f\"There are no patients of blood type {blood_type}.\")\n",
    "        elif count == 1:\n",
    "            print(f\"There is one patient of blood type {blood_type}.\")\n",
    "        else:\n",
    "            print(f\"There are {count} patients of blood type {blood_type}.\")\n",
    "\n",
    "bldcount('bloodtype1.txt')"
   ]
  },
  {
   "cell_type": "markdown",
   "id": "fa1ca60b-f1f4-4e81-8e64-e741d9873406",
   "metadata": {},
   "source": [
    "Question 8 Python\n",
    "\n",
    "Write a funtion curconv() that takes input:\r\n",
    "a currency represented using a string (e.g., 'JPY' for the Japanese Yen or 'EUR' for the Euro).\r\n",
    "\r\n",
    "an amount and then converts and returns the amount in UD dollars.\r\n",
    "\r\n",
    "curconv('EUR', 100)\r\n",
    "\r\n",
    "122.96544\r\n",
    "\r\n",
    "curconv('JPY', 100)\r\n",
    "\r\n",
    "1.241401\r\n",
    "\r\n",
    "The currency rates you will need are stored in file currencies.txt\r\n",
    "\r\n",
    "AUD 1.0345157 Australian Dollar\r\n",
    "CHF 1.0237414 Swiss Franchinese Yuan\r\n",
    "CNY 0.1550176 C\r\n",
    "DKK 0.1651442 Danish Krone\r\n",
    "EUR 1.2296544 Euro\r\n",
    "GBP 1.5550989 British Pound\r\n",
    "HKD 0.1270207 Hong Kong Dollar\r\n",
    "INR 0.0177643 Indian Rupee\r\n",
    "JPY 0.01241401 Japanese Yen\r\n",
    "MXN 0.0751848 Mexican Peso\r\n",
    "MYR 0.3145411 Malaysian Ringgit\r\n",
    "NOK 0.1677063 Norwegian Krone\r\n",
    "NZD 0.8003591 New Zealand Dollar\r\n",
    "PHP 0.0233234 Philippine Peso\r\n",
    "SEK 0.148269 Swedish Krona\r\n",
    "SGD 0.788871 SThai Baht Dollar\r\n",
    "THB\r\n",
    "0.0313789\r\n",
    "Thai Baht"
   ]
  },
  {
   "cell_type": "code",
   "execution_count": 5,
   "id": "7e0651cc-58f0-4106-93fd-8e66d1af871a",
   "metadata": {},
   "outputs": [
    {
     "name": "stdout",
     "output_type": "stream",
     "text": [
      "122.96544\n",
      "1.241401\n"
     ]
    }
   ],
   "source": [
    "def curconv(currency, amount):\n",
    "    rate_currency = {}\n",
    "    \n",
    "    with open('currencies.txt', 'r') as file:\n",
    "        lines = file.readlines()\n",
    "        for line in lines:\n",
    "            parts = line.split()\n",
    "            if len(parts) >= 2:\n",
    "                code = parts[0]\n",
    "                rate = float(parts[1])\n",
    "                rate_currency[code] = rate\n",
    "    \n",
    "    if currency in rate_currency:\n",
    "        return amount * rate_currency[currency]\n",
    "    else:\n",
    "        raise ValueError(\"Currency not found.\")\n",
    "print(curconv('EUR', 100))  \n",
    "print(curconv('JPY', 100))"
   ]
  },
  {
   "cell_type": "markdown",
   "id": "3561bfd3-68e8-483a-96ed-2790cc1363b8",
   "metadata": {},
   "source": [
    "QUESTION 9\r\n",
    "Each of the following will cause an exception (an error). Identify what type of exception each will cause.\r\n",
    "Trying to add incompatible variables, as in adding 6 + ‘a’\r\n",
    "\r\n",
    "Referring to the 12th item of a list that has only 10 items\r\n",
    "\r\n",
    "Using a value that is out of range for a function’s input, such as calling math.sqrt( 1.0)\r\n",
    "\r\n",
    "Using an undeclared variable, such as print(x) when x has not been defined\r\n",
    "\r\n",
    "Trying to open a file that does not exist, such as mistyping the file name or looking in the wrong directory"
   ]
  },
  {
   "cell_type": "markdown",
   "id": "7ec260e0-7c96-4c2c-a1a7-114dc364015e",
   "metadata": {},
   "source": [
    "•\tTypeError: Occurs when incompatible data types are used in an operation, such as adding a number and a string.\r\n",
    "•\tIndexError: Occurs when trying to access an element of a list or other sequence using an invalid index.\r\n",
    "•\tValueError: Occurs when a function is called with an argument that is not of the expected type or is outside of the valid range.\r\n",
    "•\tNameError: Occurs when a variable is used before it has been defined.\r\n",
    "•\tFileNotFoundError: Occurs when a file cannot be found or opened.\r\n"
   ]
  },
  {
   "cell_type": "markdown",
   "id": "06df31f7-1bcb-416b-8a8d-57f35c4e79c9",
   "metadata": {},
   "source": [
    "Question 10 Python\r\n",
    "Encryption is the process of hiding the meaning of a text by substituting letters in the message with other letters, according to some system. If the process is successful, no one but the intended recipient can understand the encrypted message. Cryptanalysis refers to attempts to undo the encryption, even if some details of the encryption are unknown (for example, if an encrypted message has been intercepted). The first step of cryptanalysis is often to build up a table of letter frequencies in the encrypted text. Assume that the string letters is already defined as 'abcdefghijklmnopqrstuvwxyz'. Write a function called frequencies() that takes a string as its only parameter, and returns a list of integers, showing the number of times each character appears in the text. Your function may ignore any characters that are not in letters.\r",
    ">> frequencies('The quick red fox got bored and went home.') [1, 1, 1, 3, 5, 1, 1, 2, 1, 0, 1, 0, 1, 2, 4, 0, 1, 2, 0, 2,\r\n",
    "1, 0, 1, 1, 0,\n",
    ">>> frequencies('apple')"
   ]
  },
  {
   "cell_type": "code",
   "execution_count": 7,
   "id": "c1c1a138-3983-4a38-b86b-bea92030637f",
   "metadata": {},
   "outputs": [
    {
     "name": "stdout",
     "output_type": "stream",
     "text": [
      "[1, 1, 1, 3, 5, 1, 1, 2, 1, 0, 1, 0, 1, 2, 4, 0, 1, 2, 0, 3, 1, 0, 1, 1, 0, 0]\n",
      "[1, 0, 0, 0, 1, 0, 0, 0, 0, 0, 0, 1, 0, 0, 0, 2, 0, 0, 0, 0, 0, 0, 0, 0, 0, 0]\n"
     ]
    }
   ],
   "source": [
    "def frequencies(text):\n",
    "    letters = 'abcdefghijklmnopqrstuvwxyz'\n",
    "    \n",
    "    freq = [0] * 26  \n",
    "\n",
    "    text = text.lower()\n",
    "\n",
    "    for char in text:\n",
    "        if char in letters:\n",
    "            index = letters.index(char) \n",
    "            freq[index] += 1  \n",
    "\n",
    "    return freq\n",
    "\n",
    "#Execution\n",
    "print(frequencies('The quick red fox got bored and went home.'))\n",
    "print(frequencies('apple'))"
   ]
  },
  {
   "cell_type": "code",
   "execution_count": null,
   "id": "bc093ac6-c03a-4927-b558-97748110bb5b",
   "metadata": {},
   "outputs": [],
   "source": []
  }
 ],
 "metadata": {
  "kernelspec": {
   "display_name": ".NET (C#)",
   "language": "C#",
   "name": ".net-csharp"
  },
  "language_info": {
   "file_extension": ".cs",
   "mimetype": "text/x-csharp",
   "name": "C#",
   "pygments_lexer": "csharp",
   "version": "12.0"
  }
 },
 "nbformat": 4,
 "nbformat_minor": 5
}
